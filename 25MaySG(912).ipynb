{
 "cells": [
  {
   "cell_type": "code",
   "execution_count": 2,
   "metadata": {},
   "outputs": [
    {
     "name": "stdout",
     "output_type": "stream",
     "text": [
      "hello\n",
      "hi\n",
      "yes\n"
     ]
    }
   ],
   "source": [
    "#multiple if's\n",
    "a=b=c=d=10\n",
    "if a<=b:\n",
    "    print(\"hello\")\n",
    "if b>=c:\n",
    "    print(\"hi\")\n",
    "if c==d:\n",
    "    print(\"yes\")"
   ]
  },
  {
   "cell_type": "code",
   "execution_count": 3,
   "metadata": {},
   "outputs": [
    {
     "name": "stdout",
     "output_type": "stream",
     "text": [
      "hello\n",
      "hi\n",
      "yes\n"
     ]
    }
   ],
   "source": [
    "\n",
    "#NEsted if's\n",
    "a=b=c=d=10\n",
    "if a<=b:\n",
    "    print(\"hello\")\n",
    "    if b>=c:\n",
    "        print(\"hi\")\n",
    "        if c==d:\n",
    "            print(\"yes\")"
   ]
  },
  {
   "cell_type": "code",
   "execution_count": 8,
   "metadata": {},
   "outputs": [
    {
     "name": "stdin",
     "output_type": "stream",
     "text": [
      "Do you have a valid cnic YES\n"
     ]
    },
    {
     "name": "stdout",
     "output_type": "stream",
     "text": [
      "you can not caste vote\n"
     ]
    }
   ],
   "source": [
    "cnic_Status = input(\"Do you have a valid cnic\").lower()\n",
    "if cnic_Status ==\"yes\":\n",
    "    print(\"Come Inside\")\n",
    "    name_in_list = input(\"is your name is voter list?\").lower()\n",
    "    if name_in_list == \"yes\":\n",
    "        print(\"you can caste vote\")\n",
    "    else:\n",
    "        print(\"you can not caste vote\")\n",
    "else:\n",
    "    print(\"you can not caste vote\")"
   ]
  },
  {
   "cell_type": "code",
   "execution_count": 9,
   "metadata": {},
   "outputs": [],
   "source": [
    "\n",
    "# multiplication\n",
    "# 0(f) and 0 >>>>0\n",
    "# 1(t) and 0>>>0\n",
    "# 0 and 1 >>>0\n",
    "# 1 and 1>>>1"
   ]
  },
  {
   "cell_type": "code",
   "execution_count": 12,
   "metadata": {},
   "outputs": [
    {
     "name": "stdin",
     "output_type": "stream",
     "text": [
      "Do you have a valid cnic no\n",
      "is your name is voter list? yes\n"
     ]
    },
    {
     "name": "stdout",
     "output_type": "stream",
     "text": [
      "u can not caste vote\n"
     ]
    }
   ],
   "source": [
    "cnic_Status = input(\"Do you have a valid cnic\").lower()\n",
    "name_in_list = input(\"is your name is voter list?\").lower()\n",
    "\n",
    "if ((cnic_Status ==\"yes\") and (name_in_list == \"yes\")):\n",
    "    print(\"caste your vote\")\n",
    "else:\n",
    "    print(\"u can not caste vote\")\n",
    "\n",
    "\n"
   ]
  },
  {
   "cell_type": "code",
   "execution_count": 13,
   "metadata": {},
   "outputs": [],
   "source": [
    "##IF elif else"
   ]
  },
  {
   "cell_type": "code",
   "execution_count": 14,
   "metadata": {},
   "outputs": [
    {
     "data": {
      "text/plain": [
       "'pakistan'"
      ]
     },
     "execution_count": 14,
     "metadata": {},
     "output_type": "execute_result"
    }
   ],
   "source": [
    "name = \"pakistan\" \n",
    "name"
   ]
  },
  {
   "cell_type": "code",
   "execution_count": 15,
   "metadata": {},
   "outputs": [
    {
     "data": {
      "text/plain": [
       "'PAKISTAN'"
      ]
     },
     "execution_count": 15,
     "metadata": {},
     "output_type": "execute_result"
    }
   ],
   "source": [
    "name.upper()"
   ]
  },
  {
   "cell_type": "code",
   "execution_count": 20,
   "metadata": {},
   "outputs": [
    {
     "name": "stdin",
     "output_type": "stream",
     "text": [
      "enter marks 34\n"
     ]
    },
    {
     "name": "stdout",
     "output_type": "stream",
     "text": [
      "you grade is U\n"
     ]
    }
   ],
   "source": [
    "marks = int(input(\"enter marks\"))\n",
    "grade = \"\"\n",
    "if marks>=90:\n",
    "    grade = \"A*\"\n",
    "elif marks>=80:\n",
    "    grade = \"A\"\n",
    "elif marks>=70:\n",
    "    grade = \"B\"\n",
    "elif marks>=60:\n",
    "    grade = \"C\"\n",
    "elif marks>=50:\n",
    "    grade = \"D\"\n",
    "elif marks<50:\n",
    "    grade = \"U\"\n",
    "else:\n",
    "    print(\"Sorry you are not passed try again\")\n",
    "    \n",
    "print(\"you grade is \" + grade)\n",
    "    \n"
   ]
  },
  {
   "cell_type": "code",
   "execution_count": 25,
   "metadata": {},
   "outputs": [
    {
     "name": "stdin",
     "output_type": "stream",
     "text": [
      "enter a character A\n"
     ]
    },
    {
     "name": "stdout",
     "output_type": "stream",
     "text": [
      "the charcater is a vowel\n"
     ]
    }
   ],
   "source": [
    "char = input(\"enter a character\").lower()\n",
    "\n",
    "if (char ==\"a\" or char==\"e\" or char==\"i\" or char==\"o\" or char==\"u\"):\n",
    "    print(\"the charcater is a vowel\")\n",
    "else: \n",
    "    print (\"the charactrer is a consonant\")\n"
   ]
  },
  {
   "cell_type": "code",
   "execution_count": null,
   "metadata": {},
   "outputs": [],
   "source": [
    "education@piaic.org"
   ]
  },
  {
   "cell_type": "code",
   "execution_count": 26,
   "metadata": {},
   "outputs": [
    {
     "name": "stdout",
     "output_type": "stream",
     "text": [
      "helo guys\n"
     ]
    }
   ],
   "source": [
    "# this code is for practice\n",
    "print(\"helo guys\")"
   ]
  },
  {
   "cell_type": "code",
   "execution_count": null,
   "metadata": {},
   "outputs": [],
   "source": [
    "marks = int(input(\"enter marks\"))\n",
    "grade = \"\"\n",
    "if marks>=90:\n",
    "    grade = \"A*\"\n",
    "'''dfkdhfd fgkjfg fgkfjg ffgkjfg \n",
    "fgfg \n",
    "fgfghhhj\n",
    "ghjjghg\n",
    "gh\n",
    "hg'''\n",
    "\n",
    "elif marks>=80:\n",
    "    grade = \"A\"\n",
    "elif marks>=70:\n",
    "    grade = \"B\"\n",
    "elif marks>=60:\n",
    "    grade = \"C\"\n",
    "elif marks>=50:\n",
    "    grade = \"D\"\n",
    "elif marks<50:\n",
    "    grade = \"U\"\n",
    "else:\n",
    "    print(\"Sorry you are not passed try again\")\n",
    "    \n",
    "print(\"you grade is \" + grade)"
   ]
  },
  {
   "cell_type": "code",
   "execution_count": 31,
   "metadata": {},
   "outputs": [],
   "source": [
    "##List"
   ]
  },
  {
   "cell_type": "code",
   "execution_count": 50,
   "metadata": {},
   "outputs": [
    {
     "data": {
      "text/plain": [
       "4"
      ]
     },
     "execution_count": 50,
     "metadata": {},
     "output_type": "execute_result"
    }
   ],
   "source": [
    "aList = [\"asad\",\"saad\",'saif', 'danish']\n",
    "len(aList)"
   ]
  },
  {
   "cell_type": "code",
   "execution_count": 51,
   "metadata": {},
   "outputs": [],
   "source": [
    "list2 = [\"apple\", 1223, False,123.5]\n",
    "# list can hold multiple data types together"
   ]
  },
  {
   "cell_type": "code",
   "execution_count": 36,
   "metadata": {},
   "outputs": [
    {
     "data": {
      "text/plain": [
       "'altaf'"
      ]
     },
     "execution_count": 36,
     "metadata": {},
     "output_type": "execute_result"
    }
   ],
   "source": [
    "aList[0]\n",
    "aList[5]"
   ]
  },
  {
   "cell_type": "code",
   "execution_count": 39,
   "metadata": {},
   "outputs": [],
   "source": [
    "list2[0] = \"oranges\""
   ]
  },
  {
   "cell_type": "code",
   "execution_count": 40,
   "metadata": {},
   "outputs": [
    {
     "data": {
      "text/plain": [
       "['oranges', 1223, False, 123.5]"
      ]
     },
     "execution_count": 40,
     "metadata": {},
     "output_type": "execute_result"
    }
   ],
   "source": [
    "list2"
   ]
  },
  {
   "cell_type": "code",
   "execution_count": 41,
   "metadata": {},
   "outputs": [],
   "source": [
    "del list2[2]"
   ]
  },
  {
   "cell_type": "code",
   "execution_count": 42,
   "metadata": {},
   "outputs": [
    {
     "data": {
      "text/plain": [
       "['oranges', 1223, 123.5]"
      ]
     },
     "execution_count": 42,
     "metadata": {},
     "output_type": "execute_result"
    }
   ],
   "source": [
    "list2"
   ]
  },
  {
   "cell_type": "code",
   "execution_count": 45,
   "metadata": {},
   "outputs": [],
   "source": [
    "list2.append(10900)"
   ]
  },
  {
   "cell_type": "code",
   "execution_count": 46,
   "metadata": {},
   "outputs": [
    {
     "data": {
      "text/plain": [
       "['oranges', 1223, 123.5, 10900]"
      ]
     },
     "execution_count": 46,
     "metadata": {},
     "output_type": "execute_result"
    }
   ],
   "source": [
    "list2"
   ]
  },
  {
   "cell_type": "code",
   "execution_count": 47,
   "metadata": {},
   "outputs": [],
   "source": [
    "list2.insert(2,\"wewrerererttrtrtrt\")"
   ]
  },
  {
   "cell_type": "code",
   "execution_count": 48,
   "metadata": {},
   "outputs": [
    {
     "data": {
      "text/plain": [
       "['oranges', 1223, 'wewrerererttrtrtrt', 123.5, 10900]"
      ]
     },
     "execution_count": 48,
     "metadata": {},
     "output_type": "execute_result"
    }
   ],
   "source": [
    "list2"
   ]
  },
  {
   "cell_type": "code",
   "execution_count": null,
   "metadata": {},
   "outputs": [],
   "source": []
  }
 ],
 "metadata": {
  "kernelspec": {
   "display_name": "Python 3",
   "language": "python",
   "name": "python3"
  },
  "language_info": {
   "codemirror_mode": {
    "name": "ipython",
    "version": 3
   },
   "file_extension": ".py",
   "mimetype": "text/x-python",
   "name": "python",
   "nbconvert_exporter": "python",
   "pygments_lexer": "ipython3",
   "version": "3.7.3"
  }
 },
 "nbformat": 4,
 "nbformat_minor": 2
}
