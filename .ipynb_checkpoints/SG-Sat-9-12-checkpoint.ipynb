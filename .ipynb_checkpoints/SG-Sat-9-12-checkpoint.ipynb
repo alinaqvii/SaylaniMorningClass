{
 "cells": [
  {
   "cell_type": "markdown",
   "metadata": {},
   "source": [
    "# Classess\n"
   ]
  },
  {
   "cell_type": "code",
   "execution_count": 1,
   "metadata": {},
   "outputs": [
    {
     "name": "stdout",
     "output_type": "stream",
     "text": [
      "2016 Audi A4\n"
     ]
    }
   ],
   "source": [
    "class Car():\n",
    "    def __init__(self, make, model, year):  # positional parameters\n",
    "        self.make = make                    # mandatory \n",
    "        self.model = model\n",
    "        self.year = year\n",
    "        \n",
    "    \n",
    "    def get_descriptive_name(self):\n",
    "\n",
    "        long_name = str(self.year) + ' ' + self.make + ' ' + self.model\n",
    "        return long_name.title()\n",
    "\n",
    "my_new_car = Car('audi', 'a4', 2016)\n",
    "print(my_new_car.get_descriptive_name())\n",
    "\n",
    "\n",
    "\n",
    "\n"
   ]
  },
  {
   "cell_type": "code",
   "execution_count": 19,
   "metadata": {},
   "outputs": [],
   "source": [
    "class Car():\n",
    "    def __init__(self, make, model, year):  # positional parameters\n",
    "        self.make = make                    # mandatory \n",
    "        self.model = model\n",
    "        self.year = year\n",
    "        self.odometer_reading = 0\n",
    "    \n",
    "    def read_odometer(self):\n",
    "        current_odometer_reading = self.odometer_reading\n",
    "        return current_odometer_reading\n",
    "    \n",
    "    def get_descriptive_name(self):\n",
    "\n",
    "        long_name = str(self.year) + ' ' + self.make + ' ' + self.model\n",
    "        return long_name.title()\n",
    "\n",
    "    def update_odometer(self, mileage):\n",
    "        self.odometer_reading = mileage\n"
   ]
  },
  {
   "cell_type": "code",
   "execution_count": 20,
   "metadata": {},
   "outputs": [],
   "source": [
    "my_new_car = Car('audi', 'a4', 2016)  # object created\n",
    "your_new_car = Car(\"BMW\", 'succi', 2019)"
   ]
  },
  {
   "cell_type": "code",
   "execution_count": 21,
   "metadata": {},
   "outputs": [
    {
     "name": "stdout",
     "output_type": "stream",
     "text": [
      "0\n",
      "0\n"
     ]
    }
   ],
   "source": [
    "print(my_new_car.read_odometer())\n",
    "print(your_new_car.read_odometer())"
   ]
  },
  {
   "cell_type": "markdown",
   "metadata": {},
   "source": [
    "# Changing default attribute's value \n",
    "\n",
    "1)Changing the value directly\n",
    "2)Changing the value via function"
   ]
  },
  {
   "cell_type": "markdown",
   "metadata": {},
   "source": [
    "# 1)Changing the value directly"
   ]
  },
  {
   "cell_type": "code",
   "execution_count": 22,
   "metadata": {},
   "outputs": [],
   "source": [
    "my_new_car.odometer_reading = 50"
   ]
  },
  {
   "cell_type": "code",
   "execution_count": 23,
   "metadata": {},
   "outputs": [
    {
     "data": {
      "text/plain": [
       "50"
      ]
     },
     "execution_count": 23,
     "metadata": {},
     "output_type": "execute_result"
    }
   ],
   "source": [
    "my_new_car.read_odometer()"
   ]
  },
  {
   "cell_type": "code",
   "execution_count": 24,
   "metadata": {},
   "outputs": [
    {
     "data": {
      "text/plain": [
       "0"
      ]
     },
     "execution_count": 24,
     "metadata": {},
     "output_type": "execute_result"
    }
   ],
   "source": [
    "your_new_car.read_odometer()"
   ]
  },
  {
   "cell_type": "code",
   "execution_count": 25,
   "metadata": {},
   "outputs": [],
   "source": [
    "your_new_car.odometer_reading=100"
   ]
  },
  {
   "cell_type": "code",
   "execution_count": 26,
   "metadata": {},
   "outputs": [
    {
     "name": "stdout",
     "output_type": "stream",
     "text": [
      "50\n",
      "100\n"
     ]
    }
   ],
   "source": [
    "print(my_new_car.read_odometer())\n",
    "print(your_new_car.read_odometer())"
   ]
  },
  {
   "cell_type": "markdown",
   "metadata": {},
   "source": [
    "# 2)Changing the value via function"
   ]
  },
  {
   "cell_type": "code",
   "execution_count": 27,
   "metadata": {},
   "outputs": [
    {
     "data": {
      "text/plain": [
       "500"
      ]
     },
     "execution_count": 27,
     "metadata": {},
     "output_type": "execute_result"
    }
   ],
   "source": [
    "my_new_car.update_odometer(500)\n",
    "my_new_car.read_odometer()"
   ]
  },
  {
   "cell_type": "code",
   "execution_count": 28,
   "metadata": {},
   "outputs": [
    {
     "data": {
      "text/plain": [
       "1000"
      ]
     },
     "execution_count": 28,
     "metadata": {},
     "output_type": "execute_result"
    }
   ],
   "source": [
    "your_new_car.update_odometer(1000)\n",
    "your_new_car.read_odometer()"
   ]
  },
  {
   "cell_type": "markdown",
   "metadata": {},
   "source": [
    "# Restaurant Example (9.1)"
   ]
  },
  {
   "cell_type": "code",
   "execution_count": 34,
   "metadata": {},
   "outputs": [],
   "source": [
    "class Restaurant():\n",
    "    \n",
    "    def __init__(self, restaurantName, cuisineType):\n",
    "        self.restaurantName = restaurantName\n",
    "        self.cuisineType= cuisineType\n",
    "        \n",
    "    def describeRestaurant(self):\n",
    "        print(f\"The name of restaurant is {self.restaurantName}\")\n",
    "        print(f\"The cuisine type is {self.cuisineType}\")\n",
    "        \n",
    "    def openRestaurant(self):\n",
    "        print(f\"{self.restaurantName} is open now\")    "
   ]
  },
  {
   "cell_type": "code",
   "execution_count": 35,
   "metadata": {},
   "outputs": [],
   "source": [
    "restaurant = Restaurant(\"KBC\",\"Pakistani\")"
   ]
  },
  {
   "cell_type": "code",
   "execution_count": 36,
   "metadata": {},
   "outputs": [
    {
     "name": "stdout",
     "output_type": "stream",
     "text": [
      "KBC\n",
      "Pakistani\n"
     ]
    }
   ],
   "source": [
    "print(restaurant.restaurantName)\n",
    "print(restaurant.cuisineType)"
   ]
  },
  {
   "cell_type": "code",
   "execution_count": 37,
   "metadata": {},
   "outputs": [
    {
     "name": "stdout",
     "output_type": "stream",
     "text": [
      "The name of restaurant is KBC\n",
      "The cuisine type is Pakistani\n"
     ]
    }
   ],
   "source": [
    "restaurant.describeRestaurant()"
   ]
  },
  {
   "cell_type": "code",
   "execution_count": 33,
   "metadata": {},
   "outputs": [
    {
     "name": "stdout",
     "output_type": "stream",
     "text": [
      "KBC is open now\n"
     ]
    }
   ],
   "source": [
    "restaurant.openRestaurant()"
   ]
  },
  {
   "cell_type": "code",
   "execution_count": 57,
   "metadata": {},
   "outputs": [],
   "source": [
    "class Restaurant():     \n",
    "    def __init__(self, restaurantName, cuisineType):\n",
    "        self.restaurantName = restaurantName\n",
    "        self.cuisineType= cuisineType\n",
    "        self.numberServed = 0\n",
    "        \n",
    "    def set_number_served(self, numbers):\n",
    "        self.numberServed = numbers\n",
    "        \n",
    "    def increment_number_served(self,numbers):\n",
    "        self.numberServed +=numbers\n",
    "    \n",
    "    def getNumbersServed(self):\n",
    "        print(f\"Total customers served today are {self.numberServed }\")\n",
    "    \n",
    "    def describeRestaurant(self):\n",
    "        print(f\"The name of restaurant is {self.restaurantName}\")\n",
    "        print(f\"The cuisine type is {self.cuisineType}\")\n",
    "        \n",
    "    def openRestaurant(self):\n",
    "        print(f\"{self.restaurantName} is open now\")           "
   ]
  },
  {
   "cell_type": "code",
   "execution_count": 58,
   "metadata": {},
   "outputs": [],
   "source": [
    "restaurant = Restaurant(\"PIAIC\", \"Python\") # object creation"
   ]
  },
  {
   "cell_type": "code",
   "execution_count": null,
   "metadata": {},
   "outputs": [],
   "source": [
    "# Accessing attributes via object name"
   ]
  },
  {
   "cell_type": "code",
   "execution_count": 59,
   "metadata": {},
   "outputs": [
    {
     "data": {
      "text/plain": [
       "'PIAIC'"
      ]
     },
     "execution_count": 59,
     "metadata": {},
     "output_type": "execute_result"
    }
   ],
   "source": [
    "restaurant.restaurantName  "
   ]
  },
  {
   "cell_type": "code",
   "execution_count": 60,
   "metadata": {},
   "outputs": [
    {
     "data": {
      "text/plain": [
       "'Python'"
      ]
     },
     "execution_count": 60,
     "metadata": {},
     "output_type": "execute_result"
    }
   ],
   "source": [
    "restaurant.cuisineType"
   ]
  },
  {
   "cell_type": "code",
   "execution_count": 61,
   "metadata": {},
   "outputs": [
    {
     "data": {
      "text/plain": [
       "0"
      ]
     },
     "execution_count": 61,
     "metadata": {},
     "output_type": "execute_result"
    }
   ],
   "source": [
    "restaurant.numberServed"
   ]
  },
  {
   "cell_type": "code",
   "execution_count": null,
   "metadata": {},
   "outputs": [],
   "source": [
    "# accessing functions via object name"
   ]
  },
  {
   "cell_type": "code",
   "execution_count": 62,
   "metadata": {},
   "outputs": [
    {
     "name": "stdout",
     "output_type": "stream",
     "text": [
      "The name of restaurant is PIAIC\n",
      "The cuisine type is Python\n"
     ]
    }
   ],
   "source": [
    "restaurant.describeRestaurant()"
   ]
  },
  {
   "cell_type": "code",
   "execution_count": 63,
   "metadata": {},
   "outputs": [
    {
     "name": "stdout",
     "output_type": "stream",
     "text": [
      "PIAIC is open now\n"
     ]
    }
   ],
   "source": [
    "restaurant.openRestaurant()"
   ]
  },
  {
   "cell_type": "code",
   "execution_count": 73,
   "metadata": {},
   "outputs": [],
   "source": [
    "# Changing default value by calling functions\n",
    "# Accessing default value by calling functions"
   ]
  },
  {
   "cell_type": "code",
   "execution_count": 66,
   "metadata": {},
   "outputs": [
    {
     "name": "stdout",
     "output_type": "stream",
     "text": [
      "Total customers served today are 15\n"
     ]
    }
   ],
   "source": [
    "restaurant.set_number_served(15)\n",
    "restaurant.getNumbersServed()"
   ]
  },
  {
   "cell_type": "code",
   "execution_count": null,
   "metadata": {},
   "outputs": [],
   "source": []
  },
  {
   "cell_type": "code",
   "execution_count": 72,
   "metadata": {},
   "outputs": [
    {
     "name": "stdout",
     "output_type": "stream",
     "text": [
      "Total customers served today are 48\n"
     ]
    }
   ],
   "source": [
    "restaurant.increment_number_served(1)\n",
    "restaurant.getNumbersServed()"
   ]
  },
  {
   "cell_type": "markdown",
   "metadata": {},
   "source": [
    "# Inheritance"
   ]
  },
  {
   "cell_type": "code",
   "execution_count": 74,
   "metadata": {},
   "outputs": [],
   "source": [
    "class Car():\n",
    "    def __init__(self, make, model, year):  # positional parameters\n",
    "        self.make = make                    # mandatory \n",
    "        self.model = model\n",
    "        self.year = year\n",
    "        self.odometer_reading = 0\n",
    "    \n",
    "    def read_odometer(self):\n",
    "        current_odometer_reading = self.odometer_reading\n",
    "        return current_odometer_reading\n",
    "    \n",
    "    def get_descriptive_name(self):\n",
    "\n",
    "        long_name = str(self.year) + ' ' + self.make + ' ' + self.model\n",
    "        return long_name.title()\n",
    "\n",
    "    def update_odometer(self, mileage):\n",
    "        self.odometer_reading = mileage\n"
   ]
  },
  {
   "cell_type": "code",
   "execution_count": 80,
   "metadata": {},
   "outputs": [],
   "source": [
    "class ElectricCar(Car):\n",
    "       \n",
    "    pass"
   ]
  },
  {
   "cell_type": "code",
   "execution_count": 78,
   "metadata": {},
   "outputs": [],
   "source": [
    "eCar = ElectricCar(\"er\",\"rtr\",45)"
   ]
  },
  {
   "cell_type": "code",
   "execution_count": null,
   "metadata": {},
   "outputs": [],
   "source": [
    "\n",
    "\n",
    "\n",
    "\n",
    "\n",
    "\n",
    "eCar."
   ]
  }
 ],
 "metadata": {
  "kernelspec": {
   "display_name": "Python 3",
   "language": "python",
   "name": "python3"
  },
  "language_info": {
   "codemirror_mode": {
    "name": "ipython",
    "version": 3
   },
   "file_extension": ".py",
   "mimetype": "text/x-python",
   "name": "python",
   "nbconvert_exporter": "python",
   "pygments_lexer": "ipython3",
   "version": "3.7.1"
  }
 },
 "nbformat": 4,
 "nbformat_minor": 2
}
